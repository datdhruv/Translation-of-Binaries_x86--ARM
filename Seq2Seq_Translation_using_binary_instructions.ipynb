{
  "cells": [
    {
      "cell_type": "code",
      "execution_count": 316,
      "metadata": {
        "id": "227Dzdafg5yo"
      },
      "outputs": [],
      "source": [
        "%matplotlib inline"
      ]
    },
    {
      "cell_type": "markdown",
      "metadata": {
        "id": "SmYxkLrsg5yr"
      },
      "source": [
        "\n",
        "# Translating binary files with a Sequence to Sequence Network (x86 ↔ ARM\n",
        "**Author**: [Dhruv Jain](https://github.com/)\n",
        "\n",
        "This is made possible by the simple but powerful idea of the [sequence\n",
        "to sequence network](https://arxiv.org/abs/1409.3215)_, in which two\n",
        "recurrent neural networks work together to transform one sequence to\n",
        "another. An encoder network condenses an input sequence into a vector,\n",
        "and a decoder network unfolds that vector into a new sequence.\n",
        "\n",
        "To improve upon this model we'll use an [attention\n",
        "mechanism](https://arxiv.org/abs/1409.0473)_, which lets the decoder\n",
        "learn to focus over a specific range of the input sequence.\n",
        "\n",
        "It would also be useful to know about Sequence to Sequence networks and\n",
        "how they work:\n",
        "\n",
        "-  [Learning Phrase Representations using RNN Encoder-Decoder for\n",
        "   Statistical Machine Translation](https://arxiv.org/abs/1406.1078)_\n",
        "-  [Sequence to Sequence Learning with Neural\n",
        "   Networks](https://arxiv.org/abs/1409.3215)_\n",
        "-  [Neural Machine Translation by Jointly Learning to Align and\n",
        "   Translate](https://arxiv.org/abs/1409.0473)_\n",
        "-  [A Neural Conversational Model](https://arxiv.org/abs/1506.05869)_\n"
      ]
    },
    {
      "cell_type": "markdown",
      "metadata": {
        "id": "attlwxP1UBiK"
      },
      "source": [
        "**Requirements**"
      ]
    },
    {
      "cell_type": "code",
      "execution_count": 317,
      "metadata": {
        "id": "RjUXbGkhg5yt"
      },
      "outputs": [],
      "source": [
        "from __future__ import unicode_literals, print_function, division\n",
        "from io import open\n",
        "import unicodedata\n",
        "import string\n",
        "import re\n",
        "import random\n",
        "import csv\n",
        "\n",
        "import torch\n",
        "import torch.nn as nn\n",
        "from torch import optim\n",
        "import torch.nn.functional as F\n",
        "\n",
        "device = torch.device(\"cuda\" if torch.cuda.is_available() else \"cpu\")"
      ]
    },
    {
      "cell_type": "markdown",
      "metadata": {
        "id": "oULfX79jg5yu"
      },
      "source": [
        "## Loading data files\n",
        "\n",
        "The data for this project is a set of sequences of corresponding x86 and ARM instruction pairs.\n",
        "\n"
      ]
    },
    {
      "cell_type": "markdown",
      "metadata": {
        "id": "LQjGkXgfg5yv"
      },
      "source": [
        "We will be representing each word in a language as a one-hot\n",
        "vector, or giant vector of zeros except for a single one (at the index\n",
        "of the word). \n",
        "\n",
        "\n",
        "\n",
        "\n"
      ]
    },
    {
      "cell_type": "markdown",
      "metadata": {
        "id": "JCUSSqo_g5yv"
      },
      "source": [
        "We'll need a unique index per word to use as the inputs and targets of\n",
        "the networks later. To keep track of all this we will use a helper class\n",
        "called ``Lang`` which has word → index (``word2index``) and index → word\n",
        "(``index2word``) dictionaries, as well as a count of each word\n",
        "``word2count`` which will be used to replace rare words later.\n",
        "\n",
        "\n"
      ]
    },
    {
      "cell_type": "code",
      "execution_count": 318,
      "metadata": {
        "id": "k0b4Pt00g5yv"
      },
      "outputs": [],
      "source": [
        "SOS_token = 0\n",
        "EOS_token = 1\n",
        "\n",
        "\n",
        "class Lang:\n",
        "    def __init__(self, name):\n",
        "        self.name = name\n",
        "        self.word2index = {}\n",
        "        self.word2count = {}\n",
        "        self.index2word = {0: \"SOS\", 1: \"EOS\"}\n",
        "        self.n_words = 2  # Count SOS and EOS\n",
        "\n",
        "    def addSentence(self, sentence):\n",
        "        for word in sentence.split(' '):\n",
        "            self.addWord(word)\n",
        "\n",
        "    def addWord(self, word):\n",
        "        if word not in self.word2index:\n",
        "            self.word2index[word] = self.n_words\n",
        "            self.word2count[word] = 1\n",
        "            self.index2word[self.n_words] = word\n",
        "            self.n_words += 1\n",
        "        else:\n",
        "            self.word2count[word] += 1"
      ]
    },
    {
      "cell_type": "markdown",
      "metadata": {
        "id": "cTEX8kirg5yx"
      },
      "source": [
        "To read the data file we will split the file into lines, and then split\n",
        "lines into pairs. The files are all English → Other Language, so if we\n",
        "want to translate from Other Language → English I added the ``reverse``\n",
        "flag to reverse the pairs.\n",
        "\n",
        "\n"
      ]
    },
    {
      "cell_type": "code",
      "execution_count": 319,
      "metadata": {
        "id": "cjMiRMFcg5yy"
      },
      "outputs": [],
      "source": [
        "def readLangs(lang1, lang2, reverse=False):\n",
        "\n",
        "    with open('%s-%s.csv' % (lang1, lang2) ) as csv_file:\n",
        "        csv_reader = csv.reader(csv_file, delimiter=',')\n",
        "        pairs = [[row[0], row[1]] for row in csv_reader]\n",
        "        pairs = pairs[1:]\n",
        "        print(pairs[0])\n",
        "\n",
        "    # Reverse pairs, make Lang instances\n",
        "    if reverse:\n",
        "        pairs = [list(reversed(p)) for p in pairs]\n",
        "        input_lang = Lang(lang2)\n",
        "        output_lang = Lang(lang1)\n",
        "    else:\n",
        "        input_lang = Lang(lang1)\n",
        "        output_lang = Lang(lang2)\n",
        "\n",
        "    return input_lang, output_lang, pairs\n"
      ]
    },
    {
      "cell_type": "code",
      "execution_count": 320,
      "metadata": {
        "colab": {
          "base_uri": "https://localhost:8080/"
        },
        "id": "KkW-eR8_g5yz",
        "outputId": "7a8e184e-7b35-4fc4-8d8e-33611835059a"
      },
      "outputs": [
        {
          "name": "stdout",
          "output_type": "stream",
          "text": [
            "['55 4889e5 4883ec10', 'a9be7bfd 910003fd']\n",
            "Read 2054 sentence pairs\n",
            "Counting words...\n",
            "Counted words:\n",
            "x86 2213\n",
            "arm 2038\n",
            "['b800000000 e8e4040000', '940001d9']\n"
          ]
        }
      ],
      "source": [
        "def prepareData(lang1, lang2, reverse=False):\n",
        "    input_lang, output_lang, pairs = readLangs(lang1, lang2, reverse)\n",
        "    print(\"Read %s sentence pairs\" % len(pairs))\n",
        "    #pairs = filterPairs(pairs)\n",
        "    #print(\"Trimmed to %s sentence pairs\" % len(pairs))\n",
        "    print(\"Counting words...\")\n",
        "    for pair in pairs:\n",
        "        input_lang.addSentence(pair[0])\n",
        "        output_lang.addSentence(pair[1])\n",
        "    print(\"Counted words:\")\n",
        "    print(input_lang.name, input_lang.n_words)\n",
        "    print(output_lang.name, output_lang.n_words)\n",
        "    return input_lang, output_lang, pairs\n",
        "\n",
        "\n",
        "input_lang, output_lang, pairs = prepareData('x86', 'arm')\n",
        "print(random.choice(pairs))"
      ]
    },
    {
      "cell_type": "markdown",
      "metadata": {
        "id": "cjsO0_yQg5yz"
      },
      "source": [
        "## The Seq2Seq Model\n",
        "\n",
        "A Recurrent Neural Network, or RNN, is a network that operates on a\n",
        "sequence and uses its own output as input for subsequent steps.\n",
        "\n",
        "A [Sequence to Sequence network](https://arxiv.org/abs/1409.3215)_, or\n",
        "seq2seq network, or [Encoder Decoder\n",
        "network](https://arxiv.org/pdf/1406.1078v3.pdf)_, is a model\n",
        "consisting of two RNNs called the encoder and decoder. The encoder reads\n",
        "an input sequence and outputs a single vector, and the decoder reads\n",
        "that vector to produce an output sequence.\n",
        "\n",
        "\n",
        "Unlike sequence prediction with a single RNN, where every input\n",
        "corresponds to an output, the seq2seq model frees us from sequence\n",
        "length and order, which makes it ideal for translation between two\n",
        "languages.\n",
        "\n",
        "With a seq2seq model the encoder creates a single vector which, in the\n",
        "ideal case, encodes the \"meaning\" of the input sequence into a single\n",
        "vector — a single point in some N dimensional space of sentences.\n",
        "\n",
        "\n"
      ]
    },
    {
      "cell_type": "markdown",
      "metadata": {
        "id": "233mi-5gg5y0"
      },
      "source": [
        "### The Encoder\n",
        "\n",
        "The encoder of a seq2seq network is a RNN that outputs some value for\n",
        "every word from the input sentence. For every input word the encoder\n",
        "outputs a vector and a hidden state, and uses the hidden state for the\n",
        "next input word.\n",
        "\n",
        ".. figure:: /_static/img/seq-seq-images/encoder-network.png\n",
        "   :alt:\n",
        "\n",
        "\n",
        "\n"
      ]
    },
    {
      "cell_type": "code",
      "execution_count": 321,
      "metadata": {
        "id": "-GhDYa0cg5y0"
      },
      "outputs": [],
      "source": [
        "# class EncoderRNN(nn.Module):\n",
        "#     def __init__(self, input_size, hidden_size):\n",
        "#         super(EncoderRNN, self).__init__()\n",
        "#         self.hidden_size = hidden_size\n",
        "\n",
        "#         self.embedding = nn.Embedding(input_size, hidden_size)\n",
        "#         self.gru = nn.GRU(hidden_size, hidden_size)\n",
        "\n",
        "#     def forward(self, input, hidden):\n",
        "#         embedded = self.embedding(input).view(1, 1, -1)\n",
        "#         output = embedded\n",
        "#         output, hidden = self.gru(output, hidden)\n",
        "#         return output, hidden\n",
        "\n",
        "#     def initHidden(self):\n",
        "#         return torch.zeros(1, 1, self.hidden_size, device=device)\n",
        "\n",
        "class EncoderRNN(nn.Module):\n",
        "        def __init__(self, input_size, hidden_size, n_layers=1, bidirectional=True, method='LSTM'):\n",
        "            super(EncoderRNN, self).__init__()\n",
        "            self.hidden_size = hidden_size\n",
        "            self.hidden_var = hidden_size // 2 if bidirectional else hidden_size\n",
        "            self.n_layers = n_layers\n",
        "            self.bidirectional = bidirectional\n",
        "            self.n_directions = 2 if bidirectional else 1\n",
        "            self.method = method\n",
        "\n",
        "            self.embedding = nn.Embedding(input_size, hidden_size)\n",
        "            if self.method == 'GRU':\n",
        "                self.net = nn.GRU(hidden_size,\n",
        "                                  self.hidden_var,\n",
        "                                  num_layers=self.n_layers,\n",
        "                                  bidirectional=self.bidirectional)\n",
        "            elif self.method == 'LSTM':\n",
        "                self.net = nn.LSTM(hidden_size,\n",
        "                                   self.hidden_var,\n",
        "                                   num_layers=self.n_layers,\n",
        "                                   bidirectional=self.bidirectional)\n",
        "\n",
        "        def forward(self, input, hidden):\n",
        "            embedded = self.embedding(input).view(1, 1, -1)\n",
        "            output = embedded\n",
        "            output, hidden = self.net(output, hidden)\n",
        "            # output = (output[:, :, :self.hidden_size] +\n",
        "            #        output[:, :, self.hidden_size:])\n",
        "            return output, hidden, embedded\n",
        "\n",
        "        def initHidden(self):\n",
        "            if self.method == 'GRU':\n",
        "                return torch.zeros(self.n_layers * self.n_directions, 1, self.hidden_var, device=device)\n",
        "            elif self.method == 'LSTM':\n",
        "                h_state = torch.zeros(self.n_layers * self.n_directions, 1, self.hidden_var, device=device)\n",
        "                c_state = torch.zeros(self.n_layers * self.n_directions, 1, self.hidden_var, device=device)\n",
        "                hidden = (h_state, c_state)\n",
        "                return hidden"
      ]
    },
    {
      "cell_type": "markdown",
      "metadata": {
        "id": "fWEypDkcg5y0"
      },
      "source": [
        "### The Decoder\n",
        "\n",
        "The decoder is another RNN that takes the encoder output vector(s) and\n",
        "outputs a sequence of words to create the translation.\n",
        "\n",
        "\n"
      ]
    },
    {
      "cell_type": "markdown",
      "metadata": {
        "id": "kivleRbhg5y0"
      },
      "source": [
        "#### Simple Decoder\n",
        "\n",
        "In the simplest seq2seq decoder we use only last output of the encoder.\n",
        "This last output is sometimes called the *context vector* as it encodes\n",
        "context from the entire sequence. This context vector is used as the\n",
        "initial hidden state of the decoder.\n",
        "\n",
        "At every step of decoding, the decoder is given an input token and\n",
        "hidden state. The initial input token is the start-of-string ``<SOS>``\n",
        "token, and the first hidden state is the context vector (the encoder's\n",
        "last hidden state).\n",
        "\n",
        ".. figure:: /_static/img/seq-seq-images/decoder-network.png\n",
        "   :alt:\n",
        "\n",
        "\n",
        "\n"
      ]
    },
    {
      "cell_type": "markdown",
      "metadata": {
        "id": "W01-qbbDg5y1"
      },
      "source": [
        "#### Attention Decoder\n",
        "\n",
        "If only the context vector is passed between the encoder and decoder,\n",
        "that single vector carries the burden of encoding the entire sentence.\n",
        "\n",
        "Attention allows the decoder network to \"focus\" on a different part of\n",
        "the encoder's outputs for every step of the decoder's own outputs. First\n",
        "we calculate a set of *attention weights*. These will be multiplied by\n",
        "the encoder output vectors to create a weighted combination. The result\n",
        "(called ``attn_applied`` in the code) should contain information about\n",
        "that specific part of the input sequence, and thus help the decoder\n",
        "choose the right output words.\n",
        "\n",
        ".. figure:: https://i.imgur.com/1152PYf.png\n",
        "   :alt:\n",
        "\n",
        "Calculating the attention weights is done with another feed-forward\n",
        "layer ``attn``, using the decoder's input and hidden state as inputs.\n",
        "Because there are sentences of all sizes in the training data, to\n",
        "actually create and train this layer we have to choose a maximum\n",
        "sentence length (input length, for encoder outputs) that it can apply\n",
        "to. Sentences of the maximum length will use all the attention weights,\n",
        "while shorter sentences will only use the first few.\n",
        "\n",
        ".. figure:: /_static/img/seq-seq-images/attention-decoder-network.png\n",
        "   :alt:\n",
        "\n",
        "\n",
        "\n"
      ]
    },
    {
      "cell_type": "code",
      "execution_count": 323,
      "metadata": {
        "id": "yfo5RWAAg5y1"
      },
      "outputs": [],
      "source": [
        "MAX_LENGTH = 20\n",
        "\n",
        "class AttnDecoderRNN(nn.Module):\n",
        "        def __init__(self, hidden_size, output_size, n_layers=1, dropout_p=0.1,\n",
        "                     max_length=MAX_LENGTH, method='LSTM', bidirectional=True):\n",
        "\n",
        "            super(AttnDecoderRNN, self).__init__()\n",
        "            self.hidden_size = hidden_size\n",
        "            self.output_size = output_size\n",
        "            self.dropout_p = dropout_p\n",
        "            self.max_length = max_length\n",
        "            self.n_layers = n_layers\n",
        "            self.method = method\n",
        "            self.bidirectional = bidirectional\n",
        "\n",
        "            self.embedding = nn.Embedding(self.output_size, self.hidden_size)\n",
        "            self.attn = nn.Linear(self.hidden_size * 2, self.max_length)\n",
        "            self.attn_combine = nn.Linear(self.hidden_size * 2, self.hidden_size)\n",
        "            self.dropout = nn.Dropout(self.dropout_p)\n",
        "\n",
        "            if self.method == 'GRU':\n",
        "                self.net = nn.GRU(self.hidden_size,\n",
        "                                  self.hidden_size,\n",
        "                                  num_layers=self.n_layers)\n",
        "            elif self.method == 'LSTM':\n",
        "                self.net = nn.LSTM(self.hidden_size,\n",
        "                                   self.hidden_size,\n",
        "                                   num_layers=self.n_layers)\n",
        "\n",
        "            self.out = nn.Linear(self.hidden_size, self.output_size)\n",
        "\n",
        "        def forward(self, input, hidden, encoder_outputs):\n",
        "\n",
        "            # Embed\n",
        "            embedded = self.embedding(input).view(1, 1, -1)\n",
        "            embedded = self.dropout(embedded)\n",
        "            self.hidden = hidden\n",
        "\n",
        "            # Concatenate all of the layers\n",
        "            hidden_h_rows = ()\n",
        "            hidden_c_rows = ()\n",
        "\n",
        "            if self.method == 'LSTM':\n",
        "                # hidden is a tuple of h_state and c_state\n",
        "                decoder_h, decoder_c = hidden\n",
        "                # print(decoder_h.shape)\n",
        "                hidden_shape = decoder_h.shape[0]\n",
        "\n",
        "                # h_state\n",
        "                for x in range(0, hidden_shape):\n",
        "                    hidden_h_rows += (decoder_h[x],)\n",
        "\n",
        "                # c_state\n",
        "                for x in range(0, hidden_shape):\n",
        "                    hidden_c_rows += (decoder_c[x],)\n",
        "\n",
        "            elif self.method == \"GRU\":\n",
        "\n",
        "                # hidden is not a tuple (GRU)\n",
        "                decoder_h = hidden\n",
        "                hidden_shape = decoder_h.shape[0]\n",
        "\n",
        "                # h_state\n",
        "                for x in range(0, hidden_shape):\n",
        "                    hidden_h_rows += (decoder_h[x],)\n",
        "\n",
        "            if self.bidirectional:\n",
        "                decoder_h_cat = torch.cat(hidden_h_rows, 1)\n",
        "                # Make sure the h_dim size is compatible with num_layers with concatenation.\n",
        "                decoder_h = decoder_h_cat.view((self.n_layers, 1, self.hidden_size))  # hidden_size=256\n",
        "\n",
        "                if self.method == \"LSTM\":\n",
        "                    decoder_c_cat = torch.cat(hidden_c_rows, 1)\n",
        "                    decoder_c = decoder_c_cat.view((self.n_layers, 1, self.hidden_size))  # hidden_size=256\n",
        "                    hidden_lstm = (decoder_h, decoder_c)\n",
        "\n",
        "                elif self.method == \"GRU\":\n",
        "                    hidden_gru = decoder_h\n",
        "\n",
        "            # Attention Block\n",
        "            attn_weights = F.softmax(\n",
        "                self.attn(torch.cat((embedded[0], hidden_lstm[0][0] if self.method == \"LSTM\" else \\\n",
        "                    hidden_gru[0]), 1)), dim=1)\n",
        "            attn_applied = torch.bmm(attn_weights.unsqueeze(0), encoder_outputs.unsqueeze(0))\n",
        "            output = torch.cat((embedded[0], attn_applied[0]), 1)\n",
        "            output = self.attn_combine(output).unsqueeze(0)\n",
        "\n",
        "            output = F.relu(output)\n",
        "            output, hidden = self.net(output,\n",
        "                                      hidden_lstm if self.method == \"LSTM\" else hidden_gru)  # I am not sure about this!\n",
        "            output = F.log_softmax(self.out(output[0]), dim=1)\n",
        "            return output, hidden, attn_weights\n",
        "\n",
        "        def initHidden(self):\n",
        "\n",
        "            if self.method == 'GRU':\n",
        "                return torch.zeros(self.n_layers * 1, 1, self.hidden_var, device=device)\n",
        "            elif self.method == 'LSTM':\n",
        "                h_state = torch.zeros(self.n_layers * 1, 1, self.hidden_var)\n",
        "                c_state = torch.zeros(self.n_layers * 1, 1, self.hidden_var)\n",
        "                hidden = (h_state, c_state)\n",
        "                return hidden"
      ]
    },
    {
      "attachments": {},
      "cell_type": "markdown",
      "metadata": {
        "id": "3VicOb5Ig5y2"
      },
      "source": [
        "Note: There are other forms of attention that work around the length\n",
        "  limitation by using a relative position approach. Read about \"local\n",
        "  attention\" in [Effective Approaches to Attention-based Neural Machine\n",
        "  Translation](https://arxiv.org/abs/1508.04025).\n",
        "\n",
        "## Training\n",
        "\n",
        "### Preparing Training Data\n",
        "\n",
        "To train, for each pair we will need an input tensor (indexes of the\n",
        "words in the input sentence) and target tensor (indexes of the words in\n",
        "the target sentence). While creating these vectors we will append the\n",
        "EOS token to both sequences.\n",
        "\n",
        "\n"
      ]
    },
    {
      "cell_type": "code",
      "execution_count": 324,
      "metadata": {
        "id": "r5gTvqzog5y2"
      },
      "outputs": [],
      "source": [
        "def indexesFromSentence(lang, sentence):\n",
        "    return [lang.word2index[word] for word in sentence.split(' ')]\n",
        "\n",
        "\n",
        "def tensorFromSentence(lang, sentence):\n",
        "    indexes = indexesFromSentence(lang, sentence)\n",
        "    indexes.append(EOS_token)\n",
        "    return torch.tensor(indexes, dtype=torch.long, device=device).view(-1, 1)\n",
        "\n",
        "\n",
        "def tensorsFromPair(pair):\n",
        "    input_tensor = tensorFromSentence(input_lang, pair[0])\n",
        "    target_tensor = tensorFromSentence(output_lang, pair[1])\n",
        "    return (input_tensor, target_tensor)"
      ]
    },
    {
      "cell_type": "markdown",
      "metadata": {
        "id": "gafs1M2Zg5y2"
      },
      "source": [
        "### Training the Model\n",
        "\n",
        "To train we run the input sentence through the encoder, and keep track\n",
        "of every output and the latest hidden state. Then the decoder is given\n",
        "the ``<SOS>`` token as its first input, and the last hidden state of the\n",
        "encoder as its first hidden state.\n",
        "\n",
        "\"Teacher forcing\" is the concept of using the real target outputs as\n",
        "each next input, instead of using the decoder's guess as the next input.\n",
        "Using teacher forcing causes it to converge faster but [when the trained\n",
        "network is exploited, it may exhibit\n",
        "instability](http://citeseerx.ist.psu.edu/viewdoc/download?doi=10.1.1.378.4095&rep=rep1&type=pdf)_.\n",
        "\n",
        "You can observe outputs of teacher-forced networks that read with\n",
        "coherent grammar but wander far from the correct translation -\n",
        "intuitively it has learned to represent the output grammar and can \"pick\n",
        "up\" the meaning once the teacher tells it the first few words, but it\n",
        "has not properly learned how to create the sentence from the translation\n",
        "in the first place.\n",
        "\n",
        "\n"
      ]
    },
    {
      "cell_type": "code",
      "execution_count": 325,
      "metadata": {
        "id": "mt04jrk9g5y2"
      },
      "outputs": [],
      "source": [
        "teacher_forcing_ratio = 0.5\n",
        "\n",
        "\n",
        "def train(input_tensor, target_tensor, encoder, decoder, encoder_optimizer, decoder_optimizer, criterion, max_length=MAX_LENGTH):\n",
        "    encoder_hidden = encoder.initHidden()\n",
        "\n",
        "    encoder_optimizer.zero_grad()\n",
        "    decoder_optimizer.zero_grad()\n",
        "\n",
        "    input_length = input_tensor.size(0)\n",
        "    target_length = target_tensor.size(0)\n",
        "\n",
        "    encoder_outputs = torch.zeros(max_length, encoder.hidden_size, device=device)\n",
        "\n",
        "    loss = 0\n",
        "\n",
        "    for ei in range(input_length):\n",
        "        try:\n",
        "            encoder_output, encoder_hidden, encoder_embedded = encoder(\n",
        "                input_tensor[ei], encoder_hidden)\n",
        "            encoder_outputs[ei] = encoder_output[0, 0]\n",
        "        except IndexError:\n",
        "            pass\n",
        "\n",
        "    decoder_input = torch.tensor([[SOS_token]], device=device)\n",
        "\n",
        "    decoder_hidden = encoder_hidden\n",
        "\n",
        "    use_teacher_forcing = True if random.random() < teacher_forcing_ratio else False\n",
        "\n",
        "    if use_teacher_forcing:\n",
        "        # Teacher forcing: Feed the target as the next input\n",
        "        for di in range(target_length):\n",
        "            decoder_output, decoder_hidden, decoder_attention = decoder(\n",
        "                decoder_input, decoder_hidden, encoder_outputs)\n",
        "            loss += criterion(decoder_output, target_tensor[di])\n",
        "            decoder_input = target_tensor[di]  # Teacher forcing\n",
        "\n",
        "    else:\n",
        "        # Without teacher forcing: use its own predictions as the next input\n",
        "        for di in range(target_length):\n",
        "            decoder_output, decoder_hidden, decoder_attention = decoder(\n",
        "                decoder_input, decoder_hidden, encoder_outputs)\n",
        "            topv, topi = decoder_output.topk(1)\n",
        "            decoder_input = topi.squeeze().detach()  # detach from history as input\n",
        "\n",
        "            loss += criterion(decoder_output, target_tensor[di])\n",
        "            if decoder_input.item() == EOS_token:\n",
        "                break\n",
        "\n",
        "    loss.backward()\n",
        "\n",
        "    encoder_optimizer.step()\n",
        "    decoder_optimizer.step()\n",
        "\n",
        "    return loss.item() / target_length"
      ]
    },
    {
      "cell_type": "markdown",
      "metadata": {
        "id": "2sDvqAWrg5y3"
      },
      "source": [
        "This is a helper function to print time elapsed and estimated time\n",
        "remaining given the current time and progress %.\n",
        "\n",
        "\n"
      ]
    },
    {
      "cell_type": "code",
      "execution_count": 326,
      "metadata": {
        "id": "haFbYXepg5y3"
      },
      "outputs": [],
      "source": [
        "import time\n",
        "import math\n",
        "\n",
        "\n",
        "def asMinutes(s):\n",
        "    m = math.floor(s / 60)\n",
        "    s -= m * 60\n",
        "    return '%dm %ds' % (m, s)\n",
        "\n",
        "\n",
        "def timeSince(since, percent):\n",
        "    now = time.time()\n",
        "    s = now - since\n",
        "    es = s / (percent)\n",
        "    rs = es - s\n",
        "    return '%s (- %s)' % (asMinutes(s), asMinutes(rs))"
      ]
    },
    {
      "cell_type": "markdown",
      "metadata": {
        "id": "1frjA-Xig5y3"
      },
      "source": [
        "The whole training process looks like this:\n",
        "\n",
        "-  Start a timer\n",
        "-  Initialize optimizers and criterion\n",
        "-  Create set of training pairs\n",
        "-  Start empty losses array for plotting\n",
        "\n",
        "Then we call ``train`` many times and occasionally print the progress (%\n",
        "of examples, time so far, estimated time) and average loss.\n",
        "\n",
        "\n"
      ]
    },
    {
      "cell_type": "code",
      "execution_count": 327,
      "metadata": {
        "id": "5ZW0B0F6g5y3"
      },
      "outputs": [],
      "source": [
        "def trainIters(encoder, decoder, n_iters, print_every=1000, plot_every=100, learning_rate=0.01):\n",
        "    start = time.time()\n",
        "    plot_losses = []\n",
        "    print_loss_total = 0  # Reset every print_every\n",
        "    plot_loss_total = 0  # Reset every plot_every\n",
        "\n",
        "    encoder_optimizer = optim.SGD(encoder.parameters(), lr=learning_rate)\n",
        "    decoder_optimizer = optim.SGD(decoder.parameters(), lr=learning_rate)\n",
        "    training_pairs = [tensorsFromPair(random.choice(pairs))\n",
        "                      for i in range(n_iters)]\n",
        "    criterion = nn.NLLLoss()\n",
        "\n",
        "    for iter in range(1, n_iters + 1):\n",
        "        training_pair = training_pairs[iter - 1]\n",
        "        input_tensor = training_pair[0]\n",
        "        target_tensor = training_pair[1]\n",
        "\n",
        "        loss = train(input_tensor, target_tensor, encoder,\n",
        "                     decoder, encoder_optimizer, decoder_optimizer, criterion)\n",
        "        print_loss_total += loss\n",
        "        plot_loss_total += loss\n",
        "\n",
        "        if iter % print_every == 0:\n",
        "            print_loss_avg = print_loss_total / print_every\n",
        "            print_loss_total = 0\n",
        "            print('%s (%d %d%%) %.4f' % (timeSince(start, iter / n_iters),\n",
        "                                         iter, iter / n_iters * 100, print_loss_avg))\n",
        "\n",
        "        if iter % plot_every == 0:\n",
        "            plot_loss_avg = plot_loss_total / plot_every\n",
        "            plot_losses.append(plot_loss_avg)\n",
        "            plot_loss_total = 0\n",
        "\n",
        "    showPlot(plot_losses)\n"
      ]
    },
    {
      "cell_type": "markdown",
      "metadata": {
        "id": "97tmZ4jFg5y3"
      },
      "source": [
        "### Plotting results\n",
        "\n",
        "Plotting is done with matplotlib, using the array of loss values\n",
        "``plot_losses`` saved while training.\n",
        "\n",
        "\n"
      ]
    },
    {
      "cell_type": "code",
      "execution_count": 328,
      "metadata": {
        "id": "6YMNJKdBg5y3"
      },
      "outputs": [],
      "source": [
        "import matplotlib.pyplot as plt\n",
        "plt.switch_backend('agg')\n",
        "import matplotlib.ticker as ticker\n",
        "import numpy as np\n",
        "\n",
        "\n",
        "def showPlot(points):\n",
        "    plt.figure()\n",
        "    fig, ax = plt.subplots()\n",
        "    # this locator puts ticks at regular intervals\n",
        "    loc = ticker.MultipleLocator(base=0.2)\n",
        "    ax.yaxis.set_major_locator(loc)\n",
        "    plt.plot(points)"
      ]
    },
    {
      "cell_type": "markdown",
      "metadata": {
        "id": "XU5QrQr_g5y4"
      },
      "source": [
        "## Evaluation\n",
        "\n",
        "Evaluation is mostly the same as training, but there are no targets so\n",
        "we simply feed the decoder's predictions back to itself for each step.\n",
        "Every time it predicts a word we add it to the output string, and if it\n",
        "predicts the EOS token we stop there. We also store the decoder's\n",
        "attention outputs for display later.\n",
        "\n",
        "\n"
      ]
    },
    {
      "cell_type": "code",
      "execution_count": 329,
      "metadata": {
        "id": "wNbrOZLbg5y4"
      },
      "outputs": [],
      "source": [
        "def evaluate(encoder, decoder, sentence, max_length=MAX_LENGTH):\n",
        "    with torch.no_grad():\n",
        "        input_tensor = tensorFromSentence(input_lang, sentence)\n",
        "        input_length = input_tensor.size()[0]\n",
        "        encoder_hidden = encoder.initHidden()\n",
        "\n",
        "        encoder_outputs = torch.zeros(max_length, encoder.hidden_size, device=device)\n",
        "\n",
        "        for ei in range(input_length):\n",
        "            encoder_output, encoder_hidden = encoder(input_tensor[ei],\n",
        "                                                     encoder_hidden)\n",
        "            encoder_outputs[ei] += encoder_output[0, 0]\n",
        "\n",
        "        decoder_input = torch.tensor([[SOS_token]], device=device)  # SOS\n",
        "\n",
        "        decoder_hidden = encoder_hidden\n",
        "\n",
        "        decoded_words = []\n",
        "        decoder_attentions = torch.zeros(max_length, max_length)\n",
        "\n",
        "        for di in range(max_length):\n",
        "            decoder_output, decoder_hidden, decoder_attention = decoder(\n",
        "                decoder_input, decoder_hidden, encoder_outputs)\n",
        "            decoder_attentions[di] = decoder_attention.data\n",
        "            topv, topi = decoder_output.data.topk(1)\n",
        "            if topi.item() == EOS_token:\n",
        "                decoded_words.append('<EOS>')\n",
        "                break\n",
        "            else:\n",
        "                decoded_words.append(output_lang.index2word[topi.item()])\n",
        "\n",
        "            decoder_input = topi.squeeze().detach()\n",
        "\n",
        "        return decoded_words, decoder_attentions[:di + 1]"
      ]
    },
    {
      "cell_type": "markdown",
      "metadata": {
        "id": "vcDy5cc4g5y4"
      },
      "source": [
        "We can evaluate random sentences from the training set and print out the\n",
        "input, target, and output to make some subjective quality judgements:\n",
        "\n",
        "\n"
      ]
    },
    {
      "cell_type": "code",
      "execution_count": 330,
      "metadata": {
        "id": "PVfzBhVDg5y4"
      },
      "outputs": [],
      "source": [
        "def evaluateRandomly(encoder, decoder, n=10):\n",
        "    for i in range(n):\n",
        "        pair = random.choice(pairs)\n",
        "        print('>', pair[0])\n",
        "        print('=', pair[1])\n",
        "        output_words, attentions = evaluate(encoder, decoder, pair[0])\n",
        "        output_sentence = ' '.join(output_words)\n",
        "        print('<', output_sentence)\n",
        "        print('')"
      ]
    },
    {
      "cell_type": "markdown",
      "metadata": {
        "id": "7J16kkYAg5y4"
      },
      "source": [
        "## Training and Evaluating\n",
        "\n",
        "With all these helper functions in place (it looks like extra work, but\n",
        "it makes it easier to run multiple experiments) we can actually\n",
        "initialize a network and start training.\n",
        "\n",
        "Remember that the input sentences were heavily filtered. For this small\n",
        "dataset we can use relatively small networks of 256 hidden nodes and a\n",
        "single GRU layer. After about 40 minutes on a MacBook CPU we'll get some\n",
        "reasonable results.\n",
        "\n",
        ".. Note::\n",
        "   If you run this notebook you can train, interrupt the kernel,\n",
        "   evaluate, and continue training later. Comment out the lines where the\n",
        "   encoder and decoder are initialized and run ``trainIters`` again.\n",
        "\n",
        "\n"
      ]
    },
    {
      "cell_type": "code",
      "execution_count": 331,
      "metadata": {
        "colab": {
          "base_uri": "https://localhost:8080/"
        },
        "id": "wcy0s-10g5y5",
        "outputId": "537ae6a0-dae3-431b-832f-006a50676d14"
      },
      "outputs": [
        {
          "name": "stdout",
          "output_type": "stream",
          "text": [
            "1m 0s (- 14m 1s) (5000 6%) 3.4804\n",
            "2m 3s (- 13m 22s) (10000 13%) 2.7672\n",
            "3m 9s (- 12m 37s) (15000 20%) 2.1253\n",
            "4m 14s (- 11m 40s) (20000 26%) 1.5253\n",
            "5m 22s (- 10m 44s) (25000 33%) 1.1102\n",
            "6m 29s (- 9m 44s) (30000 40%) 0.7672\n",
            "7m 36s (- 8m 41s) (35000 46%) 0.5286\n",
            "8m 45s (- 7m 40s) (40000 53%) 0.3404\n",
            "9m 53s (- 6m 35s) (45000 60%) 0.2660\n",
            "10m 59s (- 5m 29s) (50000 66%) 0.2061\n",
            "12m 6s (- 4m 24s) (55000 73%) 0.1754\n",
            "13m 15s (- 3m 18s) (60000 80%) 0.1489\n",
            "14m 23s (- 2m 12s) (65000 86%) 0.1369\n",
            "15m 31s (- 1m 6s) (70000 93%) 0.1203\n",
            "16m 38s (- 0m 0s) (75000 100%) 0.1117\n"
          ]
        }
      ],
      "source": [
        "hidden_size = 256\n",
        "encoder1 = EncoderRNN(input_lang.n_words, hidden_size).to(device)\n",
        "attn_decoder1 = AttnDecoderRNN(hidden_size, output_lang.n_words, dropout_p=0.1).to(device)\n",
        "\n",
        "trainIters(encoder1, attn_decoder1, 75000, print_every=5000)"
      ]
    },
    {
      "cell_type": "code",
      "execution_count": null,
      "metadata": {
        "colab": {
          "base_uri": "https://localhost:8080/",
          "height": 353
        },
        "id": "348Eg9ASg5y5",
        "outputId": "82209104-08f8-48d4-bd4f-b82ba9edfdb6"
      },
      "outputs": [],
      "source": [
        "evaluateRandomly(encoder1, attn_decoder1)"
      ]
    }
  ],
  "metadata": {
    "accelerator": "GPU",
    "colab": {
      "provenance": []
    },
    "gpuClass": "standard",
    "kernelspec": {
      "display_name": ".env",
      "language": "python",
      "name": "python3"
    },
    "language_info": {
      "codemirror_mode": {
        "name": "ipython",
        "version": 3
      },
      "file_extension": ".py",
      "mimetype": "text/x-python",
      "name": "python",
      "nbconvert_exporter": "python",
      "pygments_lexer": "ipython3",
      "version": "3.9.6 (default, Oct 18 2022, 12:41:40) \n[Clang 14.0.0 (clang-1400.0.29.202)]"
    },
    "vscode": {
      "interpreter": {
        "hash": "eab177ecacd3504c6b98e344b8dee597df46d07157c21d3617f027f4b607941a"
      }
    }
  },
  "nbformat": 4,
  "nbformat_minor": 0
}
